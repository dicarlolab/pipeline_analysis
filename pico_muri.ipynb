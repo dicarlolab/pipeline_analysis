{
 "cells": [
  {
   "cell_type": "code",
   "execution_count": 1,
   "metadata": {
    "collapsed": true
   },
   "outputs": [
    {
     "name": "stdout",
     "output_type": "stream",
     "text": [
      "Loading catalog from entrypoints\n",
      "Loading lookup from /braintree/home/msch/miniconda3/envs/pipeline_analysis/lib/python3.11/site-packages/brainio_dicarlo/lookup.csv\n",
      "<xarray.NeuronRecordingAssembly 'data' (presentation: 40127, neuroid: 192,\n",
      "                                        time_bin: 10)>\n",
      "array([[[0, 0, 0, ..., 0, 2, 1],\n",
      "        [0, 0, 0, ..., 1, 2, 0],\n",
      "        [0, 0, 0, ..., 2, 2, 2],\n",
      "        ...,\n",
      "        [1, 0, 1, ..., 0, 0, 0],\n",
      "        [1, 0, 0, ..., 0, 0, 1],\n",
      "        [0, 0, 0, ..., 0, 1, 0]],\n",
      "\n",
      "       [[1, 0, 0, ..., 0, 0, 0],\n",
      "        [0, 0, 0, ..., 0, 1, 1],\n",
      "        [0, 0, 0, ..., 0, 0, 0],\n",
      "        ...,\n",
      "        [0, 0, 1, ..., 0, 0, 0],\n",
      "        [0, 1, 0, ..., 0, 0, 0],\n",
      "        [1, 4, 3, ..., 1, 1, 1]],\n",
      "\n",
      "       [[4, 1, 3, ..., 1, 0, 0],\n",
      "        [2, 0, 3, ..., 0, 0, 0],\n",
      "        [2, 0, 2, ..., 0, 0, 0],\n",
      "        ...,\n",
      "...\n",
      "        ...,\n",
      "        [0, 0, 0, ..., 1, 0, 0],\n",
      "        [0, 0, 0, ..., 0, 0, 0],\n",
      "        [0, 1, 0, ..., 0, 0, 0]],\n",
      "\n",
      "       [[0, 5, 0, ..., 0, 2, 0],\n",
      "        [0, 0, 0, ..., 0, 1, 0],\n",
      "        [0, 0, 0, ..., 0, 0, 0],\n",
      "        ...,\n",
      "        [0, 1, 1, ..., 2, 0, 0],\n",
      "        [1, 0, 1, ..., 1, 0, 0],\n",
      "        [1, 3, 0, ..., 1, 0, 1]],\n",
      "\n",
      "       [[0, 0, 0, ..., 0, 0, 0],\n",
      "        [0, 0, 0, ..., 0, 0, 0],\n",
      "        [0, 0, 1, ..., 0, 0, 0],\n",
      "        ...,\n",
      "        [0, 0, 0, ..., 2, 0, 0],\n",
      "        [0, 0, 0, ..., 1, 0, 0],\n",
      "        [1, 1, 0, ..., 0, 0, 1]]])\n",
      "Coordinates:\n",
      "  * presentation                    (presentation) MultiIndex\n",
      "  - intan_session_identifier        (presentation) object 'pico_muri1320-2023...\n",
      "  - mwk_session_identifier          (presentation) object 'pico_muri1320_2023...\n",
      "  - stim_on_time_ms                 (presentation) float64 100.0 100.0 ... 100.0\n",
      "  - stim_off_time_ms                (presentation) float64 100.0 100.0 ... 100.0\n",
      "  - stim_on_delay_ms                (presentation) float64 300.0 300.0 ... 300.0\n",
      "  - stimulus_size_degrees           (presentation) int64 8 8 8 8 8 ... 8 8 8 8 8\n",
      "  - fixation_window_size_degrees    (presentation) int64 2 2 2 2 2 ... 2 2 2 2 2\n",
      "  - fixation_point_size_degrees     (presentation) float64 0.2 0.2 ... 0.2 0.2\n",
      "  - stimulus_presented              (presentation) int64 1248 349 ... 349 388\n",
      "  - fixation_correct                (presentation) int64 1 1 1 1 1 ... 1 1 1 1 1\n",
      "  - stimulus_order_in_trial         (presentation) int64 1 2 3 4 5 ... 4 5 6 7 8\n",
      "  - stimulus_id                     (presentation) object '09b33d8400b90d940e...\n",
      "  - stimulus_file_sha1_hash         (presentation) object '09b33d8400b90d940e...\n",
      "  - stimulus_filename               (presentation) object '09b33d8400b90d940e...\n",
      "  - image_filename_mwk              (presentation) object '/var/folders/gd/yh...\n",
      "  - image_name_mwk                  (presentation) object 'im1248' ... 'im388'\n",
      "  - eye_h_degrees                   (presentation) object '[-0.05428234860301...\n",
      "  - eye_v_degrees                   (presentation) object '[-0.05533894896507...\n",
      "  - eye_time_ms                     (presentation) object '[-49.103, -47.095,...\n",
      "  - samp_on_us                      (presentation) int64 4840900 ... 2356897500\n",
      "  - photodiode_on_us                (presentation) int64 4865800 ... 2356930850\n",
      "  - presentation_id                 (presentation) object 'pico_muri1320-2023...\n",
      "  - repetition                      (presentation) int64 0 0 0 0 0 ... 1 1 2 2 2\n",
      "  - session_date_str                (presentation) object '230127' ... '230201'\n",
      "  - project_directory               (presentation) object 'muri1320-2023-v1' ...\n",
      "  - normalizer_assembly_identifier  (presentation) object 'dicarlo.pico_norma...\n",
      "  - tech_directory                  (presentation) object 'sgouldin' ... 'sgo...\n",
      "  - session_time_str                (presentation) object '161915' ... '152725'\n",
      "  - session_datetime                (presentation) datetime64[ns] 2023-01-27T...\n",
      "  - image_set_name                  (presentation) object 'hvm' 'coco' ... 'hvm'\n",
      "  - filename                        (presentation) object '09b33d8400b90d940e...\n",
      "  - image_label                     (presentation) object 'zebra' ... 'person'\n",
      "  - image_current_local_file_path   (presentation) object '/braintree/data2/a...\n",
      "  - image_file_name                 (presentation) object 'im1248.png' ... 'i...\n",
      "  * neuroid                         (neuroid) MultiIndex\n",
      "  - filter_high                     (neuroid) int64 6000 6000 6000 ... 6000 6000\n",
      "  - adapter_version                 (neuroid) object 'adaptorAIT.v1.2023' ......\n",
      "  - array                           (neuroid) object '6250-002929' ... '6250-...\n",
      "  - monkey_directory                (neuroid) object 'pico' 'pico' ... 'pico'\n",
      "  - region                          (neuroid) object 'IT' 'IT' ... 'IT' 'IT'\n",
      "  - project                         (neuroid) object 'muri1320-2023-v1' ... '...\n",
      "  - threshold                       (neuroid) int64 3 3 3 3 3 3 ... 3 3 3 3 3 3\n",
      "  - label                           (neuroid) object 'elec8' ... 'elec80'\n",
      "  - subregion                       (neuroid) object 'aIT' 'aIT' ... 'pIT' 'pIT'\n",
      "  - hemisphere                      (neuroid) object 'L' 'L' 'L' ... 'L' 'L' 'L'\n",
      "  - filter_sampling                 (neuroid) int64 20000 20000 ... 20000 20000\n",
      "  - animal                          (neuroid) object 'Pico' 'Pico' ... 'Pico'\n",
      "  - electrode                       (neuroid) int64 18 20 22 24 ... 10 12 14 16\n",
      "  - file_name                       (neuroid) object 'amp-A-000.dat' ... 'amp...\n",
      "  - row                             (neuroid) int64 8 7 7 6 5 4 ... 6 5 4 3 2 1\n",
      "  - filter_low                      (neuroid) int64 300 300 300 ... 300 300 300\n",
      "  - neuroid_id                      (neuroid) object 'A-000' 'A-001' ... 'F-031'\n",
      "  - bank                            (neuroid) object 'A' 'A' 'A' ... 'F' 'F' 'F'\n",
      "  - column                          (neuroid) int64 9 8 9 9 9 9 ... 1 1 1 1 1 1\n",
      "  * time_bin                        (time_bin) MultiIndex\n",
      "  - time_bin_id                     (time_bin) object 'A' 'B' 'C' ... 'I' 'J'\n",
      "  - time_bin_start_ms               (time_bin) int64 70 80 90 ... 140 150 160\n",
      "  - time_bin_stop_ms                (time_bin) int64 80 90 100 ... 150 160 170\n",
      "Attributes:\n",
      "    identifier:               dicarlo.muri1320.2023.v1.pico.psth.raw\n",
      "    stimulus_set_identifier:  dicarlo.muri1320\n",
      "    stimulus_set:                  image_set_name                            ...\n"
     ]
    }
   ],
   "source": [
    "import brainio\n",
    "\n",
    "raw_assembly = brainio.get_assembly('dicarlo.muri1320.2023.v1.pico.psth.raw')\n",
    "print(raw_assembly)"
   ]
  },
  {
   "cell_type": "code",
   "execution_count": 2,
   "outputs": [
    {
     "name": "stdout",
     "output_type": "stream",
     "text": [
      "unique images: 1318\n",
      "time bins: [70, 80, 90, 100, 110, 120, 130, 140, 150, 160]\n",
      "repetitions (array([ 0,  1,  2,  3,  4,  5,  6,  7,  8,  9, 10, 11, 12, 13, 14, 15, 16,\n",
      "       17]), array([11532,  7921,  5284,  5272,  3956,  2168,  1324,  1324,  1319,\n",
      "          10,     3,     2,     2,     2,     2,     2,     2,     2]))\n"
     ]
    }
   ],
   "source": [
    "import numpy as np\n",
    "\n",
    "print(f\"unique images: {len(set(raw_assembly['stimulus_id'].values))}\")\n",
    "print(f\"time bins: {sorted(set(raw_assembly['time_bin_start_ms'].values))}\")\n",
    "print(\"repetitions\", np.unique(raw_assembly['repetition'].values, return_counts=True))"
   ],
   "metadata": {
    "collapsed": false
   }
  },
  {
   "cell_type": "markdown",
   "source": [
    "## internal consistency over time"
   ],
   "metadata": {
    "collapsed": false
   }
  },
  {
   "cell_type": "code",
   "execution_count": 3,
   "outputs": [],
   "source": [
    "from brainio.assemblies import walk_coords\n",
    "\n",
    "REPETITION_COORDS = ['repetition', 'eye_h_degrees', 'eye_v_degrees', 'eye_time_ms', 'samp_on_us', 'photodiode_on_us',\n",
    "                     'session_date_str', 'session_time_str', 'session_datetime', 'intan_session_identifier',\n",
    "                     'mwk_session_identifier', 'presentation_id', 'stimulus_order_in_trial',\n",
    "                     'normalizer_assembly_identifier']\n",
    "\"\"\" all the coordinates that are not shared across repeated presentations of the same stimulus \"\"\"\n",
    "\n",
    "assembly = raw_assembly\n",
    "\n",
    "\n",
    "def average_repetitions(assembly):\n",
    "    repetition_dims = assembly['presentation'].dims\n",
    "    nonrepetition_coords = [coord for coord, dims, values in walk_coords(assembly)\n",
    "                            if dims == repetition_dims and coord not in REPETITION_COORDS]\n",
    "    average = assembly.multi_groupby(nonrepetition_coords).mean(dim=repetition_dims)\n",
    "    return average"
   ],
   "metadata": {
    "collapsed": false
   }
  },
  {
   "cell_type": "code",
   "execution_count": 4,
   "outputs": [
    {
     "name": "stderr",
     "output_type": "stream",
     "text": [
      "time_bin: 100%|██████████| 10/10 [05:08<00:00, 30.84s/it]\n"
     ]
    }
   ],
   "source": [
    "from tqdm import tqdm\n",
    "from scipy.stats import pearsonr\n",
    "from numpy.random import RandomState\n",
    "import pandas as pd\n",
    "\n",
    "results = []\n",
    "random_state = RandomState(0)\n",
    "repetitions = list(sorted(set(raw_assembly['repetition'].values)))\n",
    "\n",
    "for time_bin_start in tqdm(raw_assembly['time_bin_start_ms'].values, desc='time_bin'):\n",
    "    bin_assembly = raw_assembly.sel(time_bin_start_ms=time_bin_start).squeeze('time_bin')\n",
    "    for split in range(10):\n",
    "        repetitions_half1 = random_state.choice(repetitions, size=len(repetitions) // 2, replace=False)\n",
    "        half1 = bin_assembly[{'presentation': [repetition in repetitions_half1\n",
    "                                               for repetition in bin_assembly['repetition'].values]}]\n",
    "        half2 = bin_assembly[{'presentation': [repetition not in repetitions_half1\n",
    "                                               for repetition in bin_assembly['repetition'].values]}]\n",
    "        half1 = average_repetitions(half1)\n",
    "        half2 = average_repetitions(half2)\n",
    "        # align halves\n",
    "        half1 = half1.sortby('stimulus_id')\n",
    "        half2 = half2.sortby('stimulus_id')\n",
    "        assert (half1['stimulus_id'].values == half2['stimulus_id'].values).all()\n",
    "        for neuroid_id in raw_assembly['neuroid_id'].values:\n",
    "            neuroid_correlation, _ = pearsonr(half1.sel(neuroid_id=neuroid_id).squeeze('neuroid'),\n",
    "                                              half2.sel(neuroid_id=neuroid_id).squeeze('neuroid'))\n",
    "            results.append({'time_bin_start': time_bin_start, 'split': split,\n",
    "                            'neuroid_id': neuroid_id, 'correlation': neuroid_correlation})\n",
    "results = pd.DataFrame(results)"
   ],
   "metadata": {
    "collapsed": false
   }
  },
  {
   "cell_type": "code",
   "execution_count": 5,
   "outputs": [
    {
     "data": {
      "text/plain": "<Figure size 640x480 with 1 Axes>",
      "image/png": "[encoded data removed]"
     },
     "metadata": {},
     "output_type": "display_data"
    }
   ],
   "source": [
    "from matplotlib import pyplot\n",
    "\n",
    "aggregate_results = results.copy()\n",
    "aggregate_results = aggregate_results.groupby(['time_bin_start', 'neuroid_id']).mean().reset_index()\n",
    "aggregate_results = aggregate_results.groupby(['time_bin_start']).median('neuroid_id').reset_index()\n",
    "\n",
    "fig, ax = pyplot.subplots()\n",
    "ax.scatter(aggregate_results['time_bin_start'], aggregate_results['correlation'])\n",
    "ax.set_xlabel('# time bin start [ms]')\n",
    "ax.set_ylabel('correlation')\n",
    "fig.show()"
   ],
   "metadata": {
    "collapsed": false
   }
  },
  {
   "cell_type": "markdown",
   "source": [
    "## average out repetitions and time"
   ],
   "metadata": {
    "collapsed": false
   }
  },
  {
   "cell_type": "code",
   "execution_count": 6,
   "outputs": [
    {
     "name": "stdout",
     "output_type": "stream",
     "text": [
      "<xarray.NeuronRecordingAssembly 'data' (presentation: 1320, neuroid: 192)>\n",
      "array([[0.74333333, 0.57333333, 0.44333333, ..., 0.93666667, 0.84      ,\n",
      "        0.56      ],\n",
      "       [0.44827586, 0.33793103, 0.28965517, ..., 0.63448276, 0.6137931 ,\n",
      "        0.51724138],\n",
      "       [0.384375  , 0.265625  , 0.259375  , ..., 0.371875  , 0.378125  ,\n",
      "        0.309375  ],\n",
      "       ...,\n",
      "       [0.39032258, 0.28064516, 0.22580645, ..., 0.39354839, 0.38709677,\n",
      "        0.33225806],\n",
      "       [0.48064516, 0.34193548, 0.39677419, ..., 0.50645161, 0.50967742,\n",
      "        0.37419355],\n",
      "       [0.27741935, 0.16129032, 0.22903226, ..., 0.31935484, 0.31935484,\n",
      "        0.23548387]])\n",
      "Coordinates:\n",
      "  * neuroid                        (neuroid) MultiIndex\n",
      "  - filter_high                    (neuroid) int64 6000 6000 6000 ... 6000 6000\n",
      "  - adapter_version                (neuroid) object 'adaptorAIT.v1.2023' ... ...\n",
      "  - array                          (neuroid) object '6250-002929' ... '6250-0...\n",
      "  - monkey_directory               (neuroid) object 'pico' 'pico' ... 'pico'\n",
      "  - region                         (neuroid) object 'IT' 'IT' 'IT' ... 'IT' 'IT'\n",
      "  - project                        (neuroid) object 'muri1320-2023-v1' ... 'm...\n",
      "  - threshold                      (neuroid) int64 3 3 3 3 3 3 3 ... 3 3 3 3 3 3\n",
      "  - label                          (neuroid) object 'elec8' ... 'elec80'\n",
      "  - subregion                      (neuroid) object 'aIT' 'aIT' ... 'pIT' 'pIT'\n",
      "  - hemisphere                     (neuroid) object 'L' 'L' 'L' ... 'L' 'L' 'L'\n",
      "  - filter_sampling                (neuroid) int64 20000 20000 ... 20000 20000\n",
      "  - animal                         (neuroid) object 'Pico' 'Pico' ... 'Pico'\n",
      "  - electrode                      (neuroid) int64 18 20 22 24 ... 10 12 14 16\n",
      "  - file_name                      (neuroid) object 'amp-A-000.dat' ... 'amp-...\n",
      "  - row                            (neuroid) int64 8 7 7 6 5 4 3 ... 6 5 4 3 2 1\n",
      "  - filter_low                     (neuroid) int64 300 300 300 ... 300 300 300\n",
      "  - neuroid_id                     (neuroid) object 'A-000' 'A-001' ... 'F-031'\n",
      "  - bank                           (neuroid) object 'A' 'A' 'A' ... 'F' 'F' 'F'\n",
      "  - column                         (neuroid) int64 9 8 9 9 9 9 9 ... 1 1 1 1 1 1\n",
      "  * presentation                   (presentation) MultiIndex\n",
      "  - stim_on_time_ms                (presentation) float64 100.0 100.0 ... 100.0\n",
      "  - stim_off_time_ms               (presentation) float64 100.0 100.0 ... 100.0\n",
      "  - stim_on_delay_ms               (presentation) float64 300.0 300.0 ... 300.0\n",
      "  - stimulus_size_degrees          (presentation) int64 8 8 8 8 8 ... 8 8 8 8 8\n",
      "  - fixation_window_size_degrees   (presentation) int64 2 2 2 2 2 ... 2 2 2 2 2\n",
      "  - fixation_point_size_degrees    (presentation) float64 0.2 0.2 ... 0.2 0.2\n",
      "  - stimulus_presented             (presentation) int64 0 1 2 ... 1317 1318 1319\n",
      "  - fixation_correct               (presentation) int64 1 1 1 1 1 ... 1 1 1 1 1\n",
      "  - stimulus_id                    (presentation) object 'ff0954b12aa2a7b4b48...\n",
      "  - stimulus_file_sha1_hash        (presentation) object 'ff0954b12aa2a7b4b48...\n",
      "  - stimulus_filename              (presentation) object 'ff0954b12aa2a7b4b48...\n",
      "  - image_filename_mwk             (presentation) object '/var/folders/gd/yh3...\n",
      "  - image_name_mwk                 (presentation) object 'im0' ... 'im1319'\n",
      "  - project_directory              (presentation) object 'muri1320-2023-v1' ....\n",
      "  - tech_directory                 (presentation) object 'sgouldin' ... 'sgou...\n",
      "  - image_set_name                 (presentation) object 'hvm' 'hvm' ... 'hvm'\n",
      "  - filename                       (presentation) object 'ff0954b12aa2a7b4b48...\n",
      "  - image_label                    (presentation) object 'bear' ... 'zebra'\n",
      "  - image_current_local_file_path  (presentation) object '/braintree/data2/ac...\n",
      "  - image_file_name                (presentation) object 'im0.png' ... 'im131...\n"
     ]
    }
   ],
   "source": [
    "assembly = average_repetitions(raw_assembly)\n",
    "assembly = assembly[{'time_bin': [70 <= start <= 170 for start in assembly['time_bin_start_ms'].values]}]\n",
    "assembly = assembly.mean('time_bin')\n",
    "print(assembly)"
   ],
   "metadata": {
    "collapsed": false
   }
  },
  {
   "cell_type": "markdown",
   "source": [
    "## Readout capability"
   ],
   "metadata": {
    "collapsed": false
   }
  },
  {
   "cell_type": "code",
   "execution_count": 7,
   "outputs": [
    {
     "name": "stderr",
     "output_type": "stream",
     "text": [
      "num sites: 100%|██████████| 7/7 [00:17<00:00,  2.47s/it]\n"
     ]
    },
    {
     "name": "stdout",
     "output_type": "stream",
     "text": [
      "   num_sites      mean       std\n",
      "0          1  0.522272  0.031662\n",
      "1          5  0.531295  0.050898\n",
      "2         10  0.559023  0.040092\n",
      "3         20  0.546441  0.039213\n",
      "4         40  0.549755  0.040755\n",
      "5         80  0.519663  0.050275\n",
      "6        160  0.525347  0.049175\n"
     ]
    },
    {
     "data": {
      "text/plain": "<Figure size 640x480 with 1 Axes>",
      "image/png": "[encoded data removed]"
     },
     "metadata": {},
     "output_type": "display_data"
    }
   ],
   "source": [
    "from matplotlib import pyplot\n",
    "from sklearn.model_selection import train_test_split\n",
    "from numpy.random import RandomState\n",
    "from sklearn.linear_model import RidgeClassifierCV\n",
    "import pandas as pd\n",
    "from tqdm import tqdm\n",
    "\n",
    "results = []\n",
    "\n",
    "random_state = RandomState(0)\n",
    "for num_sites in tqdm([1, 5, 10, 20, 40, 80, 160], desc='num sites'):\n",
    "    for split in range(10):\n",
    "        sites = random_state.choice(assembly['neuroid_id'].values, size=num_sites, replace=False)\n",
    "        sites_assembly = assembly[{'neuroid': [neuroid_id in sites for neuroid_id in assembly['neuroid_id'].values]}]\n",
    "        # train/test\n",
    "        stimulus_ids = assembly['stimulus_id'].values\n",
    "        train_stimuli, test_stimuli = train_test_split(stimulus_ids, test_size=0.1, random_state=random_state)\n",
    "        train_assembly = assembly[{'presentation': [stimulus_id in train_stimuli\n",
    "                                                    for stimulus_id in assembly['stimulus_id'].values]}]\n",
    "        test_assembly = assembly[{'presentation': [stimulus_id in test_stimuli\n",
    "                                                   for stimulus_id in assembly['stimulus_id'].values]}]\n",
    "        # run classifier\n",
    "        classifier = RidgeClassifierCV(alphas=[0.0001, 0.001, 0.01, 0.1, 1, 10], fit_intercept=True)\n",
    "        classifier.fit(train_assembly, train_assembly['image_label'])\n",
    "        test_score = classifier.score(test_assembly, test_assembly['image_label'])\n",
    "        results.append({'num_sites': num_sites, 'split': split, 'test_score': test_score})\n",
    "results = pd.DataFrame(results)\n",
    "results = results.groupby('num_sites') \\\n",
    "    .agg(mean=('test_score', np.mean), std=('test_score', np.std)) \\\n",
    "    .reset_index()\n",
    "print(results)\n",
    "\n",
    "fig, ax = pyplot.subplots()\n",
    "ax.errorbar(results['num_sites'], results['mean'], yerr=results['std'])\n",
    "ax.set_xlabel('# sites')\n",
    "ax.set_ylabel('accuracy')\n",
    "fig.show()"
   ],
   "metadata": {
    "collapsed": false
   }
  },
  {
   "cell_type": "code",
   "execution_count": 7,
   "outputs": [],
   "source": [],
   "metadata": {
    "collapsed": false
   }
  }
 ],
 "metadata": {
  "kernelspec": {
   "display_name": "Python 3",
   "language": "python",
   "name": "python3"
  },
  "language_info": {
   "codemirror_mode": {
    "name": "ipython",
    "version": 2
   },
   "file_extension": ".py",
   "mimetype": "text/x-python",
   "name": "python",
   "nbconvert_exporter": "python",
   "pygments_lexer": "ipython2",
   "version": "2.7.6"
  }
 },
 "nbformat": 4,
 "nbformat_minor": 0
}
