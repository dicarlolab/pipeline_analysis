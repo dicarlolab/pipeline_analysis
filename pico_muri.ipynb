{
 "cells": [
  {
   "cell_type": "code",
   "execution_count": 1,
   "metadata": {
    "collapsed": true
   },
   "outputs": [
    {
     "name": "stdout",
     "output_type": "stream",
     "text": [
      "Loading catalog from entrypoints\n",
      "Loading lookup from /braintree/home/msch/miniconda3/envs/pipeline_analysis/lib/python3.11/site-packages/brainio_dicarlo/lookup.csv\n",
      "<xarray.NeuronRecordingAssembly 'data' (presentation: 40127, neuroid: 192,\n",
      "                                        time_bin: 10)>\n",
      "array([[[0, 0, 0, ..., 0, 2, 1],\n",
      "        [0, 0, 0, ..., 1, 2, 0],\n",
      "        [0, 0, 0, ..., 2, 2, 2],\n",
      "        ...,\n",
      "        [1, 0, 1, ..., 0, 0, 0],\n",
      "        [1, 0, 0, ..., 0, 0, 1],\n",
      "        [0, 0, 0, ..., 0, 1, 0]],\n",
      "\n",
      "       [[1, 0, 0, ..., 0, 0, 0],\n",
      "        [0, 0, 0, ..., 0, 1, 1],\n",
      "        [0, 0, 0, ..., 0, 0, 0],\n",
      "        ...,\n",
      "        [0, 0, 1, ..., 0, 0, 0],\n",
      "        [0, 1, 0, ..., 0, 0, 0],\n",
      "        [1, 4, 3, ..., 1, 1, 1]],\n",
      "\n",
      "       [[4, 1, 3, ..., 1, 0, 0],\n",
      "        [2, 0, 3, ..., 0, 0, 0],\n",
      "        [2, 0, 2, ..., 0, 0, 0],\n",
      "        ...,\n",
      "...\n",
      "        ...,\n",
      "        [0, 0, 0, ..., 1, 0, 0],\n",
      "        [0, 0, 0, ..., 0, 0, 0],\n",
      "        [0, 1, 0, ..., 0, 0, 0]],\n",
      "\n",
      "       [[0, 5, 0, ..., 0, 2, 0],\n",
      "        [0, 0, 0, ..., 0, 1, 0],\n",
      "        [0, 0, 0, ..., 0, 0, 0],\n",
      "        ...,\n",
      "        [0, 1, 1, ..., 2, 0, 0],\n",
      "        [1, 0, 1, ..., 1, 0, 0],\n",
      "        [1, 3, 0, ..., 1, 0, 1]],\n",
      "\n",
      "       [[0, 0, 0, ..., 0, 0, 0],\n",
      "        [0, 0, 0, ..., 0, 0, 0],\n",
      "        [0, 0, 1, ..., 0, 0, 0],\n",
      "        ...,\n",
      "        [0, 0, 0, ..., 2, 0, 0],\n",
      "        [0, 0, 0, ..., 1, 0, 0],\n",
      "        [1, 1, 0, ..., 0, 0, 1]]])\n",
      "Coordinates:\n",
      "  * presentation                    (presentation) MultiIndex\n",
      "  - intan_session_identifier        (presentation) object 'pico_muri1320-2023...\n",
      "  - mwk_session_identifier          (presentation) object 'pico_muri1320_2023...\n",
      "  - stim_on_time_ms                 (presentation) float64 100.0 100.0 ... 100.0\n",
      "  - stim_off_time_ms                (presentation) float64 100.0 100.0 ... 100.0\n",
      "  - stim_on_delay_ms                (presentation) float64 300.0 300.0 ... 300.0\n",
      "  - stimulus_size_degrees           (presentation) int64 8 8 8 8 8 ... 8 8 8 8 8\n",
      "  - fixation_window_size_degrees    (presentation) int64 2 2 2 2 2 ... 2 2 2 2 2\n",
      "  - fixation_point_size_degrees     (presentation) float64 0.2 0.2 ... 0.2 0.2\n",
      "  - stimulus_presented              (presentation) int64 1248 349 ... 349 388\n",
      "  - fixation_correct                (presentation) int64 1 1 1 1 1 ... 1 1 1 1 1\n",
      "  - stimulus_order_in_trial         (presentation) int64 1 2 3 4 5 ... 4 5 6 7 8\n",
      "  - stimulus_id                     (presentation) object '09b33d8400b90d940e...\n",
      "  - stimulus_file_sha1_hash         (presentation) object '09b33d8400b90d940e...\n",
      "  - stimulus_filename               (presentation) object '09b33d8400b90d940e...\n",
      "  - image_filename_mwk              (presentation) object '/var/folders/gd/yh...\n",
      "  - image_name_mwk                  (presentation) object 'im1248' ... 'im388'\n",
      "  - eye_h_degrees                   (presentation) object '[-0.05428234860301...\n",
      "  - eye_v_degrees                   (presentation) object '[-0.05533894896507...\n",
      "  - eye_time_ms                     (presentation) object '[-49.103, -47.095,...\n",
      "  - samp_on_us                      (presentation) int64 4840900 ... 2356897500\n",
      "  - photodiode_on_us                (presentation) int64 4865800 ... 2356930850\n",
      "  - presentation_id                 (presentation) object 'pico_muri1320-2023...\n",
      "  - repetition                      (presentation) int64 0 0 0 0 0 ... 1 1 2 2 2\n",
      "  - session_date_str                (presentation) object '230127' ... '230201'\n",
      "  - project_directory               (presentation) object 'muri1320-2023-v1' ...\n",
      "  - normalizer_assembly_identifier  (presentation) object 'dicarlo.pico_norma...\n",
      "  - tech_directory                  (presentation) object 'sgouldin' ... 'sgo...\n",
      "  - session_time_str                (presentation) object '161915' ... '152725'\n",
      "  - session_datetime                (presentation) datetime64[ns] 2023-01-27T...\n",
      "  - image_set_name                  (presentation) object 'hvm' 'coco' ... 'hvm'\n",
      "  - filename                        (presentation) object '09b33d8400b90d940e...\n",
      "  - image_label                     (presentation) object 'zebra' ... 'person'\n",
      "  - image_current_local_file_path   (presentation) object '/braintree/data2/a...\n",
      "  - image_file_name                 (presentation) object 'im1248.png' ... 'i...\n",
      "  * neuroid                         (neuroid) MultiIndex\n",
      "  - filter_high                     (neuroid) int64 6000 6000 6000 ... 6000 6000\n",
      "  - adapter_version                 (neuroid) object 'adaptorAIT.v1.2023' ......\n",
      "  - array                           (neuroid) object '6250-002929' ... '6250-...\n",
      "  - monkey_directory                (neuroid) object 'pico' 'pico' ... 'pico'\n",
      "  - region                          (neuroid) object 'IT' 'IT' ... 'IT' 'IT'\n",
      "  - project                         (neuroid) object 'muri1320-2023-v1' ... '...\n",
      "  - threshold                       (neuroid) int64 3 3 3 3 3 3 ... 3 3 3 3 3 3\n",
      "  - label                           (neuroid) object 'elec8' ... 'elec80'\n",
      "  - subregion                       (neuroid) object 'aIT' 'aIT' ... 'pIT' 'pIT'\n",
      "  - hemisphere                      (neuroid) object 'L' 'L' 'L' ... 'L' 'L' 'L'\n",
      "  - filter_sampling                 (neuroid) int64 20000 20000 ... 20000 20000\n",
      "  - animal                          (neuroid) object 'Pico' 'Pico' ... 'Pico'\n",
      "  - electrode                       (neuroid) int64 18 20 22 24 ... 10 12 14 16\n",
      "  - file_name                       (neuroid) object 'amp-A-000.dat' ... 'amp...\n",
      "  - row                             (neuroid) int64 8 7 7 6 5 4 ... 6 5 4 3 2 1\n",
      "  - filter_low                      (neuroid) int64 300 300 300 ... 300 300 300\n",
      "  - neuroid_id                      (neuroid) object 'A-000' 'A-001' ... 'F-031'\n",
      "  - bank                            (neuroid) object 'A' 'A' 'A' ... 'F' 'F' 'F'\n",
      "  - column                          (neuroid) int64 9 8 9 9 9 9 ... 1 1 1 1 1 1\n",
      "  * time_bin                        (time_bin) MultiIndex\n",
      "  - time_bin_id                     (time_bin) object 'A' 'B' 'C' ... 'I' 'J'\n",
      "  - time_bin_start_ms               (time_bin) int64 70 80 90 ... 140 150 160\n",
      "  - time_bin_stop_ms                (time_bin) int64 80 90 100 ... 150 160 170\n",
      "Attributes:\n",
      "    identifier:               dicarlo.muri1320.2023.v1.pico.psth.raw\n",
      "    stimulus_set_identifier:  dicarlo.muri1320\n",
      "    stimulus_set:                  image_set_name                            ...\n"
     ]
    }
   ],
   "source": [
    "import brainio\n",
    "\n",
    "raw_assembly = brainio.get_assembly('dicarlo.muri1320.2023.v1.pico.psth.raw')\n",
    "print(raw_assembly)"
   ]
  },
  {
   "cell_type": "code",
   "execution_count": 13,
   "outputs": [
    {
     "name": "stdout",
     "output_type": "stream",
     "text": [
      "unique images: 1318\n",
      "time bins: [70, 80, 90, 100, 110, 120, 130, 140, 150, 160]\n",
      "repetitions: (array([ 0,  1,  2,  3,  4,  5,  6,  7,  8,  9, 10, 11, 12, 13, 14, 15, 16,\n",
      "       17]), array([11532,  7921,  5284,  5272,  3956,  2168,  1324,  1324,  1319,\n",
      "          10,     3,     2,     2,     2,     2,     2,     2,     2]))\n",
      "regions: ['IT']\n",
      "subregions: ['aIT', 'pIT']\n"
     ]
    }
   ],
   "source": [
    "import numpy as np\n",
    "\n",
    "print(f\"unique images: {len(set(raw_assembly['stimulus_id'].values))}\")\n",
    "print(f\"time bins: {sorted(set(raw_assembly['time_bin_start_ms'].values))}\")\n",
    "print(\"repetitions:\", np.unique(raw_assembly['repetition'].values, return_counts=True))\n",
    "print(f\"regions: {sorted(set(raw_assembly['region'].values))}\")\n",
    "print(f\"subregions: {sorted(set(raw_assembly['subregion'].values))}\")"
   ],
   "metadata": {
    "collapsed": false
   }
  },
  {
   "cell_type": "markdown",
   "source": [
    "## internal consistency over time"
   ],
   "metadata": {
    "collapsed": false
   }
  },
  {
   "cell_type": "code",
   "execution_count": 11,
   "outputs": [
    {
     "name": "stdout",
     "output_type": "stream",
     "text": [
      "                        split\n",
      "neuroid_id correlation       \n",
      "A-000      -0.008167      5.0\n",
      "            0.008506      4.0\n",
      "            0.020922      1.0\n",
      "            0.023203      7.0\n",
      "            0.026450      9.0\n",
      "...                       ...\n",
      "F-031       0.155221      4.0\n",
      "            0.160928      8.0\n",
      "            0.165732      1.0\n",
      "            0.175782      7.0\n",
      "            0.190315      0.0\n",
      "\n",
      "[1920 rows x 1 columns]\n"
     ]
    },
    {
     "ename": "ValueError",
     "evalue": "No axis named split for object type DataFrame",
     "output_type": "error",
     "traceback": [
      "\u001B[0;31m---------------------------------------------------------------------------\u001B[0m",
      "\u001B[0;31mKeyError\u001B[0m                                  Traceback (most recent call last)",
      "File \u001B[0;32m~/miniconda3/envs/pipeline_analysis/lib/python3.11/site-packages/pandas/core/generic.py:554\u001B[0m, in \u001B[0;36mNDFrame._get_axis_number\u001B[0;34m(cls, axis)\u001B[0m\n\u001B[1;32m    553\u001B[0m \u001B[38;5;28;01mtry\u001B[39;00m:\n\u001B[0;32m--> 554\u001B[0m     \u001B[38;5;28;01mreturn\u001B[39;00m \u001B[38;5;28;43mcls\u001B[39;49m\u001B[38;5;241;43m.\u001B[39;49m\u001B[43m_AXIS_TO_AXIS_NUMBER\u001B[49m\u001B[43m[\u001B[49m\u001B[43maxis\u001B[49m\u001B[43m]\u001B[49m\n\u001B[1;32m    555\u001B[0m \u001B[38;5;28;01mexcept\u001B[39;00m \u001B[38;5;167;01mKeyError\u001B[39;00m:\n",
      "\u001B[0;31mKeyError\u001B[0m: 'split'",
      "\nDuring handling of the above exception, another exception occurred:\n",
      "\u001B[0;31mValueError\u001B[0m                                Traceback (most recent call last)",
      "Cell \u001B[0;32mIn[11], line 8\u001B[0m\n\u001B[1;32m      6\u001B[0m consistencies \u001B[38;5;241m=\u001B[39m internal_consistency(assembly)\n\u001B[1;32m      7\u001B[0m \u001B[38;5;28mprint\u001B[39m(consistencies\u001B[38;5;241m.\u001B[39mgroupby([\u001B[38;5;124m'\u001B[39m\u001B[38;5;124mneuroid_id\u001B[39m\u001B[38;5;124m'\u001B[39m, \u001B[38;5;124m'\u001B[39m\u001B[38;5;124mcorrelation\u001B[39m\u001B[38;5;124m'\u001B[39m])\u001B[38;5;241m.\u001B[39mmean())\n\u001B[0;32m----> 8\u001B[0m consistencies \u001B[38;5;241m=\u001B[39m \u001B[43mconsistencies\u001B[49m\u001B[38;5;241;43m.\u001B[39;49m\u001B[43mmean\u001B[49m\u001B[43m(\u001B[49m\u001B[38;5;124;43m'\u001B[39;49m\u001B[38;5;124;43msplit\u001B[39;49m\u001B[38;5;124;43m'\u001B[39;49m\u001B[43m)\u001B[49m\n\u001B[1;32m      9\u001B[0m good_neuroids \u001B[38;5;241m=\u001B[39m consistencies[\u001B[38;5;124m'\u001B[39m\u001B[38;5;124mneuroid_id\u001B[39m\u001B[38;5;124m'\u001B[39m][consistencies[\u001B[38;5;124m'\u001B[39m\u001B[38;5;124mcorrelation\u001B[39m\u001B[38;5;124m'\u001B[39m] \u001B[38;5;241m>\u001B[39m\u001B[38;5;241m=\u001B[39m \u001B[38;5;241m0.7\u001B[39m]\n\u001B[1;32m     10\u001B[0m filtered_assembly \u001B[38;5;241m=\u001B[39m raw_assembly[{\u001B[38;5;124m'\u001B[39m\u001B[38;5;124mneuroid\u001B[39m\u001B[38;5;124m'\u001B[39m: [neuroid_id \u001B[38;5;129;01min\u001B[39;00m good_neuroids\n\u001B[1;32m     11\u001B[0m                                               \u001B[38;5;28;01mfor\u001B[39;00m neuroid_id \u001B[38;5;129;01min\u001B[39;00m raw_assembly[\u001B[38;5;124m'\u001B[39m\u001B[38;5;124mneuroid_id\u001B[39m\u001B[38;5;124m'\u001B[39m]\u001B[38;5;241m.\u001B[39mvalues]}]\n",
      "File \u001B[0;32m~/miniconda3/envs/pipeline_analysis/lib/python3.11/site-packages/pandas/core/generic.py:11847\u001B[0m, in \u001B[0;36mNDFrame._add_numeric_operations.<locals>.mean\u001B[0;34m(self, axis, skipna, level, numeric_only, **kwargs)\u001B[0m\n\u001B[1;32m  11829\u001B[0m \u001B[38;5;129m@doc\u001B[39m(\n\u001B[1;32m  11830\u001B[0m     _num_doc,\n\u001B[1;32m  11831\u001B[0m     desc\u001B[38;5;241m=\u001B[39m\u001B[38;5;124m\"\u001B[39m\u001B[38;5;124mReturn the mean of the values over the requested axis.\u001B[39m\u001B[38;5;124m\"\u001B[39m,\n\u001B[0;32m   (...)\u001B[0m\n\u001B[1;32m  11845\u001B[0m     \u001B[38;5;241m*\u001B[39m\u001B[38;5;241m*\u001B[39mkwargs,\n\u001B[1;32m  11846\u001B[0m ):\n\u001B[0;32m> 11847\u001B[0m     \u001B[38;5;28;01mreturn\u001B[39;00m \u001B[43mNDFrame\u001B[49m\u001B[38;5;241;43m.\u001B[39;49m\u001B[43mmean\u001B[49m\u001B[43m(\u001B[49m\u001B[38;5;28;43mself\u001B[39;49m\u001B[43m,\u001B[49m\u001B[43m \u001B[49m\u001B[43maxis\u001B[49m\u001B[43m,\u001B[49m\u001B[43m \u001B[49m\u001B[43mskipna\u001B[49m\u001B[43m,\u001B[49m\u001B[43m \u001B[49m\u001B[43mlevel\u001B[49m\u001B[43m,\u001B[49m\u001B[43m \u001B[49m\u001B[43mnumeric_only\u001B[49m\u001B[43m,\u001B[49m\u001B[43m \u001B[49m\u001B[38;5;241;43m*\u001B[39;49m\u001B[38;5;241;43m*\u001B[39;49m\u001B[43mkwargs\u001B[49m\u001B[43m)\u001B[49m\n",
      "File \u001B[0;32m~/miniconda3/envs/pipeline_analysis/lib/python3.11/site-packages/pandas/core/generic.py:11401\u001B[0m, in \u001B[0;36mNDFrame.mean\u001B[0;34m(self, axis, skipna, level, numeric_only, **kwargs)\u001B[0m\n\u001B[1;32m  11393\u001B[0m \u001B[38;5;28;01mdef\u001B[39;00m \u001B[38;5;21mmean\u001B[39m(\n\u001B[1;32m  11394\u001B[0m     \u001B[38;5;28mself\u001B[39m,\n\u001B[1;32m  11395\u001B[0m     axis: Axis \u001B[38;5;241m|\u001B[39m \u001B[38;5;28;01mNone\u001B[39;00m \u001B[38;5;241m|\u001B[39m lib\u001B[38;5;241m.\u001B[39mNoDefault \u001B[38;5;241m=\u001B[39m lib\u001B[38;5;241m.\u001B[39mno_default,\n\u001B[0;32m   (...)\u001B[0m\n\u001B[1;32m  11399\u001B[0m     \u001B[38;5;241m*\u001B[39m\u001B[38;5;241m*\u001B[39mkwargs,\n\u001B[1;32m  11400\u001B[0m ) \u001B[38;5;241m-\u001B[39m\u001B[38;5;241m>\u001B[39m Series \u001B[38;5;241m|\u001B[39m \u001B[38;5;28mfloat\u001B[39m:\n\u001B[0;32m> 11401\u001B[0m     \u001B[38;5;28;01mreturn\u001B[39;00m \u001B[38;5;28;43mself\u001B[39;49m\u001B[38;5;241;43m.\u001B[39;49m\u001B[43m_stat_function\u001B[49m\u001B[43m(\u001B[49m\n\u001B[1;32m  11402\u001B[0m \u001B[43m        \u001B[49m\u001B[38;5;124;43m\"\u001B[39;49m\u001B[38;5;124;43mmean\u001B[39;49m\u001B[38;5;124;43m\"\u001B[39;49m\u001B[43m,\u001B[49m\u001B[43m \u001B[49m\u001B[43mnanops\u001B[49m\u001B[38;5;241;43m.\u001B[39;49m\u001B[43mnanmean\u001B[49m\u001B[43m,\u001B[49m\u001B[43m \u001B[49m\u001B[43maxis\u001B[49m\u001B[43m,\u001B[49m\u001B[43m \u001B[49m\u001B[43mskipna\u001B[49m\u001B[43m,\u001B[49m\u001B[43m \u001B[49m\u001B[43mlevel\u001B[49m\u001B[43m,\u001B[49m\u001B[43m \u001B[49m\u001B[43mnumeric_only\u001B[49m\u001B[43m,\u001B[49m\u001B[43m \u001B[49m\u001B[38;5;241;43m*\u001B[39;49m\u001B[38;5;241;43m*\u001B[39;49m\u001B[43mkwargs\u001B[49m\n\u001B[1;32m  11403\u001B[0m \u001B[43m    \u001B[49m\u001B[43m)\u001B[49m\n",
      "File \u001B[0;32m~/miniconda3/envs/pipeline_analysis/lib/python3.11/site-packages/pandas/core/generic.py:11353\u001B[0m, in \u001B[0;36mNDFrame._stat_function\u001B[0;34m(self, name, func, axis, skipna, level, numeric_only, **kwargs)\u001B[0m\n\u001B[1;32m  11343\u001B[0m     warnings\u001B[38;5;241m.\u001B[39mwarn(\n\u001B[1;32m  11344\u001B[0m         \u001B[38;5;124m\"\u001B[39m\u001B[38;5;124mUsing the level keyword in DataFrame and Series aggregations is \u001B[39m\u001B[38;5;124m\"\u001B[39m\n\u001B[1;32m  11345\u001B[0m         \u001B[38;5;124m\"\u001B[39m\u001B[38;5;124mdeprecated and will be removed in a future version. Use groupby \u001B[39m\u001B[38;5;124m\"\u001B[39m\n\u001B[0;32m   (...)\u001B[0m\n\u001B[1;32m  11348\u001B[0m         stacklevel\u001B[38;5;241m=\u001B[39mfind_stack_level(),\n\u001B[1;32m  11349\u001B[0m     )\n\u001B[1;32m  11350\u001B[0m     \u001B[38;5;28;01mreturn\u001B[39;00m \u001B[38;5;28mself\u001B[39m\u001B[38;5;241m.\u001B[39m_agg_by_level(\n\u001B[1;32m  11351\u001B[0m         name, axis\u001B[38;5;241m=\u001B[39maxis, level\u001B[38;5;241m=\u001B[39mlevel, skipna\u001B[38;5;241m=\u001B[39mskipna, numeric_only\u001B[38;5;241m=\u001B[39mnumeric_only\n\u001B[1;32m  11352\u001B[0m     )\n\u001B[0;32m> 11353\u001B[0m \u001B[38;5;28;01mreturn\u001B[39;00m \u001B[38;5;28;43mself\u001B[39;49m\u001B[38;5;241;43m.\u001B[39;49m\u001B[43m_reduce\u001B[49m\u001B[43m(\u001B[49m\n\u001B[1;32m  11354\u001B[0m \u001B[43m    \u001B[49m\u001B[43mfunc\u001B[49m\u001B[43m,\u001B[49m\u001B[43m \u001B[49m\u001B[43mname\u001B[49m\u001B[38;5;241;43m=\u001B[39;49m\u001B[43mname\u001B[49m\u001B[43m,\u001B[49m\u001B[43m \u001B[49m\u001B[43maxis\u001B[49m\u001B[38;5;241;43m=\u001B[39;49m\u001B[43maxis\u001B[49m\u001B[43m,\u001B[49m\u001B[43m \u001B[49m\u001B[43mskipna\u001B[49m\u001B[38;5;241;43m=\u001B[39;49m\u001B[43mskipna\u001B[49m\u001B[43m,\u001B[49m\u001B[43m \u001B[49m\u001B[43mnumeric_only\u001B[49m\u001B[38;5;241;43m=\u001B[39;49m\u001B[43mnumeric_only\u001B[49m\n\u001B[1;32m  11355\u001B[0m \u001B[43m\u001B[49m\u001B[43m)\u001B[49m\n",
      "File \u001B[0;32m~/miniconda3/envs/pipeline_analysis/lib/python3.11/site-packages/pandas/core/frame.py:10811\u001B[0m, in \u001B[0;36mDataFrame._reduce\u001B[0;34m(self, op, name, axis, skipna, numeric_only, filter_type, **kwds)\u001B[0m\n\u001B[1;32m  10808\u001B[0m         \u001B[38;5;28mself\u001B[39m \u001B[38;5;241m=\u001B[39m \u001B[38;5;28mtype\u001B[39m(\u001B[38;5;28mself\u001B[39m)(mgr)\n\u001B[1;32m  10810\u001B[0m \u001B[38;5;66;03m# TODO: Make other agg func handle axis=None properly GH#21597\u001B[39;00m\n\u001B[0;32m> 10811\u001B[0m axis \u001B[38;5;241m=\u001B[39m \u001B[38;5;28;43mself\u001B[39;49m\u001B[38;5;241;43m.\u001B[39;49m\u001B[43m_get_axis_number\u001B[49m\u001B[43m(\u001B[49m\u001B[43maxis\u001B[49m\u001B[43m)\u001B[49m\n\u001B[1;32m  10812\u001B[0m labels \u001B[38;5;241m=\u001B[39m \u001B[38;5;28mself\u001B[39m\u001B[38;5;241m.\u001B[39m_get_agg_axis(axis)\n\u001B[1;32m  10813\u001B[0m \u001B[38;5;28;01massert\u001B[39;00m axis \u001B[38;5;129;01min\u001B[39;00m [\u001B[38;5;241m0\u001B[39m, \u001B[38;5;241m1\u001B[39m]\n",
      "File \u001B[0;32m~/miniconda3/envs/pipeline_analysis/lib/python3.11/site-packages/pandas/core/generic.py:556\u001B[0m, in \u001B[0;36mNDFrame._get_axis_number\u001B[0;34m(cls, axis)\u001B[0m\n\u001B[1;32m    554\u001B[0m     \u001B[38;5;28;01mreturn\u001B[39;00m \u001B[38;5;28mcls\u001B[39m\u001B[38;5;241m.\u001B[39m_AXIS_TO_AXIS_NUMBER[axis]\n\u001B[1;32m    555\u001B[0m \u001B[38;5;28;01mexcept\u001B[39;00m \u001B[38;5;167;01mKeyError\u001B[39;00m:\n\u001B[0;32m--> 556\u001B[0m     \u001B[38;5;28;01mraise\u001B[39;00m \u001B[38;5;167;01mValueError\u001B[39;00m(\u001B[38;5;124mf\u001B[39m\u001B[38;5;124m\"\u001B[39m\u001B[38;5;124mNo axis named \u001B[39m\u001B[38;5;132;01m{\u001B[39;00maxis\u001B[38;5;132;01m}\u001B[39;00m\u001B[38;5;124m for object type \u001B[39m\u001B[38;5;132;01m{\u001B[39;00m\u001B[38;5;28mcls\u001B[39m\u001B[38;5;241m.\u001B[39m\u001B[38;5;18m__name__\u001B[39m\u001B[38;5;132;01m}\u001B[39;00m\u001B[38;5;124m\"\u001B[39m)\n",
      "\u001B[0;31mValueError\u001B[0m: No axis named split for object type DataFrame"
     ]
    }
   ],
   "source": [
    "from pipeline_analysis.internal_consistency import plot_internal_consistency_over_time\n",
    "\n",
    "fig = plot_internal_consistency_over_time(raw_assembly)\n",
    "fig.show()"
   ],
   "metadata": {
    "collapsed": false
   }
  },
  {
   "cell_type": "markdown",
   "source": [
    "again, but filtering neuroids for high internal consistency"
   ],
   "metadata": {
    "collapsed": false
   }
  },
  {
   "cell_type": "code",
   "execution_count": 6,
   "outputs": [
    {
     "data": {
      "text/plain": "<Figure size 640x480 with 1 Axes>",
      "image/png": "[encoded data removed]"
     },
     "metadata": {},
     "output_type": "display_data"
    }
   ],
   "source": [
    "from matplotlib import pyplot\n",
    "from pipeline_analysis.internal_consistency import plot_internal_consistency_over_time, internal_consistency\n",
    "\n",
    "# compute per-neuroid consistency\n",
    "assembly = raw_assembly[{'time_bin': [70 <= start <= 170 for start in raw_assembly['time_bin_start_ms'].values]}]\n",
    "assembly = assembly.mean('time_bin')\n",
    "consistencies = internal_consistency(assembly)\n",
    "consistencies = consistencies.groupby('neuroid_id').mean().reset_index()\n",
    "\n",
    "fig, ax = pyplot.subplots()\n",
    "ax.hist(consistencies['correlation'])\n",
    "ax.set_xlabel('internal consistency')\n",
    "ax.set_ylabel('frequency')\n",
    "fig.show()"
   ],
   "metadata": {
    "collapsed": false
   }
  },
  {
   "cell_type": "code",
   "execution_count": 11,
   "outputs": [
    {
     "name": "stdout",
     "output_type": "stream",
     "text": [
      "good neuroids: ['A-007' 'A-008' 'A-023' 'B-016' 'B-017' 'B-019' 'B-020' 'B-021' 'B-022'\n",
      " 'B-023' 'C-001' 'C-002' 'C-003' 'C-004' 'C-008' 'C-012' 'C-013' 'C-014'\n",
      " 'C-015' 'C-016' 'C-024' 'D-001' 'D-003' 'D-004' 'D-005' 'D-006' 'D-007'\n",
      " 'D-008' 'D-009' 'D-010' 'D-013' 'D-030' 'D-031' 'E-005' 'E-006' 'E-007'\n",
      " 'E-008' 'E-009' 'F-007' 'F-008']\n"
     ]
    },
    {
     "name": "stderr",
     "output_type": "stream",
     "text": [
      "time_bin: 100%|██████████| 10/10 [03:03<00:00, 18.31s/it]\n"
     ]
    },
    {
     "data": {
      "text/plain": "<Figure size 640x480 with 1 Axes>",
      "image/png": "[encoded data removed]"
     },
     "metadata": {},
     "output_type": "display_data"
    }
   ],
   "source": [
    "# filter assembly\n",
    "good_neuroids = consistencies['neuroid_id'][consistencies['correlation'] >= 0.7]\n",
    "good_neuroids = good_neuroids.values\n",
    "print(f\"good neuroids ({len(good_neuroids)}: {good_neuroids}\")\n",
    "filtered_assembly = raw_assembly[{'neuroid': [neuroid_id in good_neuroids\n",
    "                                              for neuroid_id in raw_assembly['neuroid_id'].values]}]\n",
    "\n",
    "# plot consistency over time\n",
    "fig = plot_internal_consistency_over_time(filtered_assembly)\n",
    "fig.show()"
   ],
   "metadata": {
    "collapsed": false
   }
  },
  {
   "cell_type": "markdown",
   "source": [
    "## average out repetitions and time"
   ],
   "metadata": {
    "collapsed": false
   }
  },
  {
   "cell_type": "code",
   "execution_count": 10,
   "outputs": [],
   "source": [
    "from pipeline_analysis.internal_consistency import average_repetitions\n",
    "\n",
    "assembly = average_repetitions(raw_assembly)\n",
    "assembly = assembly[{'time_bin': [70 <= start <= 170 for start in assembly['time_bin_start_ms'].values]}]\n",
    "assembly = assembly.mean('time_bin')\n",
    "print(assembly)"
   ],
   "metadata": {
    "collapsed": false
   }
  },
  {
   "cell_type": "markdown",
   "source": [
    "## Readout capability"
   ],
   "metadata": {
    "collapsed": false
   }
  },
  {
   "cell_type": "code",
   "execution_count": 7,
   "outputs": [
    {
     "name": "stderr",
     "output_type": "stream",
     "text": [
      "num sites: 100%|██████████| 7/7 [00:17<00:00,  2.47s/it]\n"
     ]
    },
    {
     "name": "stdout",
     "output_type": "stream",
     "text": [
      "   num_sites      mean       std\n",
      "0          1  0.522272  0.031662\n",
      "1          5  0.531295  0.050898\n",
      "2         10  0.559023  0.040092\n",
      "3         20  0.546441  0.039213\n",
      "4         40  0.549755  0.040755\n",
      "5         80  0.519663  0.050275\n",
      "6        160  0.525347  0.049175\n"
     ]
    },
    {
     "data": {
      "text/plain": "<Figure size 640x480 with 1 Axes>",
      "image/png": "[encoded data removed]"
     },
     "metadata": {},
     "output_type": "display_data"
    }
   ],
   "source": [
    "from matplotlib import pyplot\n",
    "from sklearn.model_selection import train_test_split\n",
    "from numpy.random import RandomState\n",
    "from sklearn.linear_model import RidgeClassifierCV\n",
    "import pandas as pd\n",
    "from tqdm import tqdm\n",
    "\n",
    "results = []\n",
    "\n",
    "random_state = RandomState(0)\n",
    "for num_sites in tqdm([1, 5, 10, 20, 40, 80, 160], desc='num sites'):\n",
    "    for split in range(10):\n",
    "        sites = random_state.choice(assembly['neuroid_id'].values, size=num_sites, replace=False)\n",
    "        sites_assembly = assembly[{'neuroid': [neuroid_id in sites for neuroid_id in assembly['neuroid_id'].values]}]\n",
    "        # train/test\n",
    "        stimulus_ids = assembly['stimulus_id'].values\n",
    "        train_stimuli, test_stimuli = train_test_split(stimulus_ids, test_size=0.1, random_state=random_state)\n",
    "        train_assembly = assembly[{'presentation': [stimulus_id in train_stimuli\n",
    "                                                    for stimulus_id in assembly['stimulus_id'].values]}]\n",
    "        test_assembly = assembly[{'presentation': [stimulus_id in test_stimuli\n",
    "                                                   for stimulus_id in assembly['stimulus_id'].values]}]\n",
    "        # run classifier\n",
    "        classifier = RidgeClassifierCV(alphas=[0.0001, 0.001, 0.01, 0.1, 1, 10], fit_intercept=True)\n",
    "        classifier.fit(train_assembly, train_assembly['image_label'])\n",
    "        test_score = classifier.score(test_assembly, test_assembly['image_label'])\n",
    "        results.append({'num_sites': num_sites, 'split': split, 'test_score': test_score})\n",
    "results = pd.DataFrame(results)\n",
    "results = results.groupby('num_sites') \\\n",
    "    .agg(mean=('test_score', np.mean), std=('test_score', np.std)) \\\n",
    "    .reset_index()\n",
    "print(results)\n",
    "\n",
    "fig, ax = pyplot.subplots()\n",
    "ax.errorbar(results['num_sites'], results['mean'], yerr=results['std'])\n",
    "ax.set_xlabel('# sites')\n",
    "ax.set_ylabel('accuracy')\n",
    "fig.show()"
   ],
   "metadata": {
    "collapsed": false
   }
  },
  {
   "cell_type": "code",
   "execution_count": 7,
   "outputs": [],
   "source": [],
   "metadata": {
    "collapsed": false
   }
  }
 ],
 "metadata": {
  "kernelspec": {
   "display_name": "Python 3",
   "language": "python",
   "name": "python3"
  },
  "language_info": {
   "codemirror_mode": {
    "name": "ipython",
    "version": 2
   },
   "file_extension": ".py",
   "mimetype": "text/x-python",
   "name": "python",
   "nbconvert_exporter": "python",
   "pygments_lexer": "ipython2",
   "version": "2.7.6"
  }
 },
 "nbformat": 4,
 "nbformat_minor": 0
}
